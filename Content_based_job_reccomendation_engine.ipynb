{
 "cells": [
  {
   "cell_type": "code",
   "execution_count": 1,
   "metadata": {},
   "outputs": [],
   "source": [
    "# Step1: Import required libraries.\n",
    "\n",
    "import pandas as pd\n",
    "from sklearn.model_selection import train_test_split\n",
    "import matplotlib.pyplot as plt\n",
    "import seaborn as sns\n",
    "from sklearn.feature_extraction.text import TfidfVectorizer, CountVectorizer\n",
    "from sklearn.metrics.pairwise import linear_kernel, cosine_similarity"
   ]
  },
  {
   "cell_type": "code",
   "execution_count": 2,
   "metadata": {},
   "outputs": [
    {
     "data": {
      "text/html": [
       "<div>\n",
       "<style scoped>\n",
       "    .dataframe tbody tr th:only-of-type {\n",
       "        vertical-align: middle;\n",
       "    }\n",
       "\n",
       "    .dataframe tbody tr th {\n",
       "        vertical-align: top;\n",
       "    }\n",
       "\n",
       "    .dataframe thead th {\n",
       "        text-align: right;\n",
       "    }\n",
       "</style>\n",
       "<table border=\"1\" class=\"dataframe\">\n",
       "  <thead>\n",
       "    <tr style=\"text-align: right;\">\n",
       "      <th></th>\n",
       "      <th>Title</th>\n",
       "      <th>Category</th>\n",
       "      <th>Location</th>\n",
       "      <th>Pre-Interview form</th>\n",
       "      <th>RC</th>\n",
       "      <th>HM</th>\n",
       "      <th>Description</th>\n",
       "      <th>Skills</th>\n",
       "      <th>Education</th>\n",
       "      <th>Posting Type</th>\n",
       "      <th>Job Type</th>\n",
       "      <th>Start Date</th>\n",
       "      <th>End Date</th>\n",
       "      <th>State</th>\n",
       "      <th>Country</th>\n",
       "      <th>JobId</th>\n",
       "    </tr>\n",
       "  </thead>\n",
       "  <tbody>\n",
       "    <tr>\n",
       "      <th>0</th>\n",
       "      <td>QA</td>\n",
       "      <td>IT</td>\n",
       "      <td>Bangalore</td>\n",
       "      <td>A</td>\n",
       "      <td>oneco RC</td>\n",
       "      <td>Oneco HM</td>\n",
       "      <td>Minimum 1 year of experince in Manual Testing\\...</td>\n",
       "      <td>Manual Testing,\\nAutomation Testing,\\nSQL,\\nTe...</td>\n",
       "      <td>BE/BCA/MCA</td>\n",
       "      <td>External</td>\n",
       "      <td>Full-time</td>\n",
       "      <td>4/7/2013</td>\n",
       "      <td>5/9/2013</td>\n",
       "      <td>Karnataka</td>\n",
       "      <td>India</td>\n",
       "      <td>A-101</td>\n",
       "    </tr>\n",
       "    <tr>\n",
       "      <th>1</th>\n",
       "      <td>Branch Marketing Manager</td>\n",
       "      <td>Marketing</td>\n",
       "      <td>Bangalore</td>\n",
       "      <td>B</td>\n",
       "      <td>oneco RC</td>\n",
       "      <td>Oneco HM</td>\n",
       "      <td>Develop marketing initiative to expand custome...</td>\n",
       "      <td>Sales,Telesales</td>\n",
       "      <td>MBA</td>\n",
       "      <td>External</td>\n",
       "      <td>Full-time</td>\n",
       "      <td>NaN</td>\n",
       "      <td>NaN</td>\n",
       "      <td>Karnataka</td>\n",
       "      <td>India</td>\n",
       "      <td>A-102</td>\n",
       "    </tr>\n",
       "    <tr>\n",
       "      <th>2</th>\n",
       "      <td>Senior UI developer</td>\n",
       "      <td>IT</td>\n",
       "      <td>Mumbai</td>\n",
       "      <td>B</td>\n",
       "      <td>oneco RC</td>\n",
       "      <td>Oneco HM</td>\n",
       "      <td>Develops Software to help communication</td>\n",
       "      <td>Code,HTML,OOP,UI</td>\n",
       "      <td>NaN</td>\n",
       "      <td>External</td>\n",
       "      <td>Full-time</td>\n",
       "      <td>9/12/2016</td>\n",
       "      <td>10/1/2017</td>\n",
       "      <td>Maharashtra</td>\n",
       "      <td>India</td>\n",
       "      <td>A-103</td>\n",
       "    </tr>\n",
       "    <tr>\n",
       "      <th>3</th>\n",
       "      <td>Staff-engineer</td>\n",
       "      <td>IT</td>\n",
       "      <td>Hyderabad</td>\n",
       "      <td>A</td>\n",
       "      <td>oneco RC</td>\n",
       "      <td>Oneco HM</td>\n",
       "      <td>Imporove tools to automate the deployment =, a...</td>\n",
       "      <td>Networking,Data processing,Admin,Puppet</td>\n",
       "      <td>BE/BCA/MCA</td>\n",
       "      <td>External</td>\n",
       "      <td>Full-time</td>\n",
       "      <td>3/1/2028</td>\n",
       "      <td>15/8/1018</td>\n",
       "      <td>Telangana</td>\n",
       "      <td>India</td>\n",
       "      <td>A-104</td>\n",
       "    </tr>\n",
       "    <tr>\n",
       "      <th>4</th>\n",
       "      <td>Senoir QA</td>\n",
       "      <td>IT</td>\n",
       "      <td>Bangalore</td>\n",
       "      <td>A</td>\n",
       "      <td>oneco RC</td>\n",
       "      <td>Oneco HM</td>\n",
       "      <td>Minimum 3 year of experince in Manua &amp; Automat...</td>\n",
       "      <td>Manual Testing,\\nAutomation Testing,\\nSQL,\\nTe...</td>\n",
       "      <td>BE/BCA/MCA</td>\n",
       "      <td>External</td>\n",
       "      <td>Full-time</td>\n",
       "      <td>4/3/2018</td>\n",
       "      <td>5/7/2018</td>\n",
       "      <td>NaN</td>\n",
       "      <td>NaN</td>\n",
       "      <td>A-105</td>\n",
       "    </tr>\n",
       "  </tbody>\n",
       "</table>\n",
       "</div>"
      ],
      "text/plain": [
       "                      Title   Category   Location Pre-Interview form  \\\n",
       "0                        QA         IT  Bangalore                  A   \n",
       "1  Branch Marketing Manager  Marketing  Bangalore                  B   \n",
       "2       Senior UI developer         IT     Mumbai                  B   \n",
       "3            Staff-engineer         IT  Hyderabad                  A   \n",
       "4                 Senoir QA         IT  Bangalore                  A   \n",
       "\n",
       "         RC        HM                                        Description  \\\n",
       "0  oneco RC  Oneco HM  Minimum 1 year of experince in Manual Testing\\...   \n",
       "1  oneco RC  Oneco HM  Develop marketing initiative to expand custome...   \n",
       "2  oneco RC  Oneco HM            Develops Software to help communication   \n",
       "3  oneco RC  Oneco HM  Imporove tools to automate the deployment =, a...   \n",
       "4  oneco RC  Oneco HM  Minimum 3 year of experince in Manua & Automat...   \n",
       "\n",
       "                                             Skills    Education Posting Type  \\\n",
       "0  Manual Testing,\\nAutomation Testing,\\nSQL,\\nTe...  BE/BCA/MCA     External   \n",
       "1                                    Sales,Telesales         MBA     External   \n",
       "2                                   Code,HTML,OOP,UI         NaN     External   \n",
       "3            Networking,Data processing,Admin,Puppet  BE/BCA/MCA     External   \n",
       "4  Manual Testing,\\nAutomation Testing,\\nSQL,\\nTe...  BE/BCA/MCA     External   \n",
       "\n",
       "    Job Type Start Date   End Date        State Country  JobId  \n",
       "0  Full-time   4/7/2013   5/9/2013    Karnataka   India  A-101  \n",
       "1  Full-time        NaN        NaN    Karnataka   India  A-102  \n",
       "2  Full-time  9/12/2016  10/1/2017  Maharashtra   India  A-103  \n",
       "3  Full-time   3/1/2028  15/8/1018    Telangana   India  A-104  \n",
       "4  Full-time   4/3/2018   5/7/2018          NaN     NaN  A-105  "
      ]
     },
     "execution_count": 2,
     "metadata": {},
     "output_type": "execute_result"
    }
   ],
   "source": [
    "# Step 2: Load/Read dataset from CSV File format\n",
    "Jobs = pd.read_csv(\"Jobs.csv\")  #Jobs file contains attribute/features of jobs(item)\n",
    "Jobs.head() # get first five rows from dataset"
   ]
  },
  {
   "cell_type": "code",
   "execution_count": 3,
   "metadata": {},
   "outputs": [
    {
     "data": {
      "text/plain": [
       "Index([' Title', 'Category', 'Location', 'Pre-Interview form', 'RC', 'HM',\n",
       "       'Description', 'Skills ', 'Education', 'Posting Type', 'Job Type',\n",
       "       'Start Date', 'End Date', 'State', 'Country', 'JobId'],\n",
       "      dtype='object')"
      ]
     },
     "execution_count": 3,
     "metadata": {},
     "output_type": "execute_result"
    }
   ],
   "source": [
    "Jobs.columns # Column names from dataset "
   ]
  },
  {
   "cell_type": "code",
   "execution_count": 5,
   "metadata": {},
   "outputs": [
    {
     "data": {
      "text/html": [
       "<div>\n",
       "<style scoped>\n",
       "    .dataframe tbody tr th:only-of-type {\n",
       "        vertical-align: middle;\n",
       "    }\n",
       "\n",
       "    .dataframe tbody tr th {\n",
       "        vertical-align: top;\n",
       "    }\n",
       "\n",
       "    .dataframe thead th {\n",
       "        text-align: right;\n",
       "    }\n",
       "</style>\n",
       "<table border=\"1\" class=\"dataframe\">\n",
       "  <thead>\n",
       "    <tr style=\"text-align: right;\">\n",
       "      <th></th>\n",
       "      <th>CANDIDATE_ID</th>\n",
       "      <th>FIRSTN</th>\n",
       "      <th>LASTN</th>\n",
       "      <th>EMAIL</th>\n",
       "      <th>MOBILE</th>\n",
       "      <th>ADDRESS</th>\n",
       "      <th>CITY</th>\n",
       "      <th>STATE</th>\n",
       "      <th>COUNTRY</th>\n",
       "      <th>EDUCATION</th>\n",
       "      <th>Skills</th>\n",
       "      <th>JOB_ID</th>\n",
       "    </tr>\n",
       "  </thead>\n",
       "  <tbody>\n",
       "    <tr>\n",
       "      <th>0</th>\n",
       "      <td>2021</td>\n",
       "      <td>Shruti</td>\n",
       "      <td>Bokkawar</td>\n",
       "      <td>shruti@gmal.com</td>\n",
       "      <td>4572890232</td>\n",
       "      <td>Horamavu</td>\n",
       "      <td>Mumbai</td>\n",
       "      <td>Maharashtra</td>\n",
       "      <td>India</td>\n",
       "      <td>BE</td>\n",
       "      <td>Selenium,Automation,Manual</td>\n",
       "      <td>A-105</td>\n",
       "    </tr>\n",
       "    <tr>\n",
       "      <th>1</th>\n",
       "      <td>2050</td>\n",
       "      <td>Piyush</td>\n",
       "      <td>Rode</td>\n",
       "      <td>piyush@gmal.com</td>\n",
       "      <td>988375334</td>\n",
       "      <td>hebbal</td>\n",
       "      <td>Bangalore</td>\n",
       "      <td>Karnataka</td>\n",
       "      <td>India</td>\n",
       "      <td>BE</td>\n",
       "      <td>Networking,Data processing,Admin,Puppet, SAS, ...</td>\n",
       "      <td>A108</td>\n",
       "    </tr>\n",
       "    <tr>\n",
       "      <th>2</th>\n",
       "      <td>2086</td>\n",
       "      <td>Aniket</td>\n",
       "      <td>Gore</td>\n",
       "      <td>aniket@gmal.com</td>\n",
       "      <td>998555334</td>\n",
       "      <td>katraj</td>\n",
       "      <td>Bangalore</td>\n",
       "      <td>Karnataka</td>\n",
       "      <td>India</td>\n",
       "      <td>BE</td>\n",
       "      <td>Code,HTML,OOP,UI,SOAP,API</td>\n",
       "      <td>A109</td>\n",
       "    </tr>\n",
       "    <tr>\n",
       "      <th>3</th>\n",
       "      <td>2020</td>\n",
       "      <td>Anup</td>\n",
       "      <td>Bokkawar</td>\n",
       "      <td>anup@gmal.com</td>\n",
       "      <td>67890232</td>\n",
       "      <td>Hoiramavu</td>\n",
       "      <td>Bangalore</td>\n",
       "      <td>Karnataka</td>\n",
       "      <td>India</td>\n",
       "      <td>MBA</td>\n",
       "      <td>Screening,Hiring sourcing,Planning</td>\n",
       "      <td>A107</td>\n",
       "    </tr>\n",
       "    <tr>\n",
       "      <th>4</th>\n",
       "      <td>2056</td>\n",
       "      <td>Keshav</td>\n",
       "      <td>rane</td>\n",
       "      <td>kjhkjh@hkh.kjhk</td>\n",
       "      <td>9898798</td>\n",
       "      <td>banjara Hills</td>\n",
       "      <td>Hyderabad</td>\n",
       "      <td>Telangana</td>\n",
       "      <td>India</td>\n",
       "      <td>MBA</td>\n",
       "      <td>Team management,Kanban,Agile</td>\n",
       "      <td>A-110</td>\n",
       "    </tr>\n",
       "  </tbody>\n",
       "</table>\n",
       "</div>"
      ],
      "text/plain": [
       "   CANDIDATE_ID  FIRSTN     LASTN            EMAIL      MOBILE        ADDRESS  \\\n",
       "0          2021  Shruti  Bokkawar  shruti@gmal.com  4572890232       Horamavu   \n",
       "1          2050  Piyush      Rode  piyush@gmal.com   988375334         hebbal   \n",
       "2          2086  Aniket      Gore  aniket@gmal.com   998555334         katraj   \n",
       "3          2020    Anup  Bokkawar    anup@gmal.com    67890232      Hoiramavu   \n",
       "4          2056  Keshav      rane  kjhkjh@hkh.kjhk     9898798  banjara Hills   \n",
       "\n",
       "        CITY        STATE COUNTRY EDUCATION  \\\n",
       "0     Mumbai  Maharashtra   India        BE   \n",
       "1  Bangalore    Karnataka   India        BE   \n",
       "2  Bangalore    Karnataka   India        BE   \n",
       "3  Bangalore    Karnataka   India       MBA   \n",
       "4  Hyderabad    Telangana   India       MBA   \n",
       "\n",
       "                                              Skills JOB_ID  \n",
       "0                         Selenium,Automation,Manual  A-105  \n",
       "1  Networking,Data processing,Admin,Puppet, SAS, ...   A108  \n",
       "2                          Code,HTML,OOP,UI,SOAP,API   A109  \n",
       "3                 Screening,Hiring sourcing,Planning   A107  \n",
       "4                       Team management,Kanban,Agile  A-110  "
      ]
     },
     "execution_count": 5,
     "metadata": {},
     "output_type": "execute_result"
    }
   ],
   "source": [
    "users = pd.read_csv(\"User.csv\") #Users file contais attribute/features of candiadte/User(item)\n",
    "users.head()"
   ]
  },
  {
   "cell_type": "code",
   "execution_count": 6,
   "metadata": {},
   "outputs": [
    {
     "data": {
      "text/plain": [
       "Index(['CANDIDATE_ID', 'FIRSTN', 'LASTN', 'EMAIL', 'MOBILE', 'ADDRESS', 'CITY',\n",
       "       'STATE', 'COUNTRY', 'EDUCATION', 'Skills', 'JOB_ID'],\n",
       "      dtype='object')"
      ]
     },
     "execution_count": 6,
     "metadata": {},
     "output_type": "execute_result"
    }
   ],
   "source": [
    "users.columns"
   ]
  },
  {
   "cell_type": "code",
   "execution_count": 7,
   "metadata": {},
   "outputs": [],
   "source": [
    "# Step 3: Now will Do Exploratory Data Analysis (EDA) and Pre-processing.\n",
    "# Split the data into train & test \n",
    "jobs_train, jobs_test =  train_test_split(Jobs,test_size=0.20, random_state=10)"
   ]
  },
  {
   "cell_type": "code",
   "execution_count": 9,
   "metadata": {},
   "outputs": [],
   "source": [
    "\n",
    "users_train, users_test =  train_test_split(users,test_size=0.20, random_state=10)"
   ]
  },
  {
   "cell_type": "code",
   "execution_count": 10,
   "metadata": {},
   "outputs": [
    {
     "name": "stdout",
     "output_type": "stream",
     "text": [
      "    Location        State Country  Locationwise\n",
      "0  Bangalore    Karnataka   India             5\n",
      "1  Hyderabad    Telangana   India             2\n",
      "2     Mumbai  Maharashtra   India             2\n"
     ]
    }
   ],
   "source": [
    "############ Data Analysisi for job openings based on their location\n",
    "overall_location_wise = Jobs.groupby(['Location','State','Country']).size().reset_index(name='Locationwise')\n",
    "print(overall_location_wise)"
   ]
  },
  {
   "cell_type": "code",
   "execution_count": 11,
   "metadata": {},
   "outputs": [
    {
     "data": {
      "image/png": "[encoded data removed]",
      "text/plain": [
       "<Figure size 864x864 with 1 Axes>"
      ]
     },
     "metadata": {
      "needs_background": "light"
     },
     "output_type": "display_data"
    }
   ],
   "source": [
    "########### locationwise openings on graph\n",
    "\n",
    "plt.figure(figsize=(12,12))\n",
    "ax = sns.barplot(x=\"Location\", y=\"Locationwise\", data=overall_location_wise)\n",
    "ax.set_xticklabels(ax.get_xticklabels(), rotation=90, ha=\"right\")\n",
    "ax.set_title('Location wise job openings')\n",
    "plt.tight_layout()\n",
    "plt.show()"
   ]
  },
  {
   "cell_type": "code",
   "execution_count": 12,
   "metadata": {},
   "outputs": [
    {
     "name": "stdout",
     "output_type": "stream",
     "text": [
      "         State  state_wise\n",
      "0    Karnataka           5\n",
      "1  Maharashtra           2\n",
      "2    Telangana           2\n"
     ]
    }
   ],
   "source": [
    "################## state wise jobs openings\n",
    "State_wise_job_US = Jobs.groupby(['State']).size().reset_index(name='state_wise').sort_values('state_wise',ascending=False)\n",
    "print(State_wise_job_US)"
   ]
  },
  {
   "cell_type": "code",
   "execution_count": 13,
   "metadata": {},
   "outputs": [
    {
     "name": "stdout",
     "output_type": "stream",
     "text": [
      "    Location  city_wise\n",
      "0  Bangalore          6\n",
      "1  Hyderabad          2\n",
      "2     Mumbai          2\n"
     ]
    }
   ],
   "source": [
    "############## city wise jobs\n",
    "\n",
    "city_wise_jobs = Jobs.groupby(['Location']).size().reset_index(name= 'city_wise').sort_values('city_wise', ascending = False)\n",
    "print(city_wise_jobs)"
   ]
  },
  {
   "cell_type": "code",
   "execution_count": 14,
   "metadata": {},
   "outputs": [
    {
     "name": "stdout",
     "output_type": "stream",
     "text": [
      "        CITY        STATE COUNTRY  overall_js\n",
      "0  Bangalore    Karnataka   India           3\n",
      "1  Hyderabad    Telangana   India           2\n",
      "2     Mumbai  Maharashtra   India           1\n"
     ]
    }
   ],
   "source": [
    "######################## Now find out jobseekers/candiadtes overall \n",
    "overall_js = users.groupby(['CITY','STATE','COUNTRY']).size().reset_index(name='overall_js')\n",
    "print(overall_js)"
   ]
  },
  {
   "cell_type": "code",
   "execution_count": 15,
   "metadata": {},
   "outputs": [
    {
     "name": "stdout",
     "output_type": "stream",
     "text": [
      "         STATE  state_js\n",
      "0    Karnataka         3\n",
      "1  Maharashtra         1\n",
      "2    Telangana         2\n"
     ]
    }
   ],
   "source": [
    "######### state wise\n",
    "state_wise_js = users.groupby(['STATE']).size().reset_index(name='state_js')\n",
    "print(state_wise_js)"
   ]
  },
  {
   "cell_type": "code",
   "execution_count": 16,
   "metadata": {},
   "outputs": [
    {
     "name": "stdout",
     "output_type": "stream",
     "text": [
      "        CITY  city_js\n",
      "0  Bangalore        3\n",
      "1  Hyderabad        2\n",
      "2     Mumbai        1\n"
     ]
    }
   ],
   "source": [
    "############ city wise\n",
    "city_wise_js = users.groupby(['CITY']).size().reset_index(name = 'city_js')\n",
    "print(city_wise_js)\n"
   ]
  },
  {
   "cell_type": "code",
   "execution_count": 17,
   "metadata": {},
   "outputs": [],
   "source": [
    "# Content based System\n",
    "# Here we will find out the simillar jobs based Using Tf-Idf method\n",
    "jobs_line = Jobs.iloc[0:13,0:15] # Instead of using main file Jobs"
   ]
  },
  {
   "cell_type": "code",
   "execution_count": 19,
   "metadata": {},
   "outputs": [
    {
     "data": {
      "text/plain": [
       "Index([' Title', 'Category', 'Location', 'Pre-Interview form', 'RC', 'HM',\n",
       "       'Description', 'Skills ', 'Education', 'Posting Type', 'Job Type',\n",
       "       'Start Date', 'End Date', 'State', 'Country'],\n",
       "      dtype='object')"
      ]
     },
     "execution_count": 19,
     "metadata": {},
     "output_type": "execute_result"
    }
   ],
   "source": [
    "jobs_line.head()\n",
    "jobs_line.columns"
   ]
  },
  {
   "cell_type": "code",
   "execution_count": 20,
   "metadata": {},
   "outputs": [],
   "source": [
    "# Filling NaNs values with empty string\n",
    "jobs_line['Description']=jobs_line[' Title'].fillna('')+ jobs_line['Description'].fillna('')"
   ]
  },
  {
   "cell_type": "code",
   "execution_count": 22,
   "metadata": {},
   "outputs": [
    {
     "data": {
      "text/html": [
       "<div>\n",
       "<style scoped>\n",
       "    .dataframe tbody tr th:only-of-type {\n",
       "        vertical-align: middle;\n",
       "    }\n",
       "\n",
       "    .dataframe tbody tr th {\n",
       "        vertical-align: top;\n",
       "    }\n",
       "\n",
       "    .dataframe thead th {\n",
       "        text-align: right;\n",
       "    }\n",
       "</style>\n",
       "<table border=\"1\" class=\"dataframe\">\n",
       "  <thead>\n",
       "    <tr style=\"text-align: right;\">\n",
       "      <th></th>\n",
       "      <th>Title</th>\n",
       "      <th>Category</th>\n",
       "      <th>Location</th>\n",
       "      <th>Pre-Interview form</th>\n",
       "      <th>RC</th>\n",
       "      <th>HM</th>\n",
       "      <th>Description</th>\n",
       "      <th>Skills</th>\n",
       "      <th>Education</th>\n",
       "      <th>Posting Type</th>\n",
       "      <th>Job Type</th>\n",
       "      <th>Start Date</th>\n",
       "      <th>End Date</th>\n",
       "      <th>State</th>\n",
       "      <th>Country</th>\n",
       "    </tr>\n",
       "  </thead>\n",
       "  <tbody>\n",
       "    <tr>\n",
       "      <th>0</th>\n",
       "      <td>QA</td>\n",
       "      <td>IT</td>\n",
       "      <td>Bangalore</td>\n",
       "      <td>A</td>\n",
       "      <td>oneco RC</td>\n",
       "      <td>Oneco HM</td>\n",
       "      <td>QAMinimum 1 year of experince in Manual Testin...</td>\n",
       "      <td>Manual Testing,\\nAutomation Testing,\\nSQL,\\nTe...</td>\n",
       "      <td>BE/BCA/MCA</td>\n",
       "      <td>External</td>\n",
       "      <td>Full-time</td>\n",
       "      <td>4/7/2013</td>\n",
       "      <td>5/9/2013</td>\n",
       "      <td>Karnataka</td>\n",
       "      <td>India</td>\n",
       "    </tr>\n",
       "    <tr>\n",
       "      <th>1</th>\n",
       "      <td>Branch Marketing Manager</td>\n",
       "      <td>Marketing</td>\n",
       "      <td>Bangalore</td>\n",
       "      <td>B</td>\n",
       "      <td>oneco RC</td>\n",
       "      <td>Oneco HM</td>\n",
       "      <td>Branch Marketing ManagerDevelop marketing init...</td>\n",
       "      <td>Sales,Telesales</td>\n",
       "      <td>MBA</td>\n",
       "      <td>External</td>\n",
       "      <td>Full-time</td>\n",
       "      <td>NaN</td>\n",
       "      <td>NaN</td>\n",
       "      <td>Karnataka</td>\n",
       "      <td>India</td>\n",
       "    </tr>\n",
       "    <tr>\n",
       "      <th>2</th>\n",
       "      <td>Senior UI developer</td>\n",
       "      <td>IT</td>\n",
       "      <td>Mumbai</td>\n",
       "      <td>B</td>\n",
       "      <td>oneco RC</td>\n",
       "      <td>Oneco HM</td>\n",
       "      <td>Senior UI developerDevelops Software to help c...</td>\n",
       "      <td>Code,HTML,OOP,UI</td>\n",
       "      <td>NaN</td>\n",
       "      <td>External</td>\n",
       "      <td>Full-time</td>\n",
       "      <td>9/12/2016</td>\n",
       "      <td>10/1/2017</td>\n",
       "      <td>Maharashtra</td>\n",
       "      <td>India</td>\n",
       "    </tr>\n",
       "    <tr>\n",
       "      <th>3</th>\n",
       "      <td>Staff-engineer</td>\n",
       "      <td>IT</td>\n",
       "      <td>Hyderabad</td>\n",
       "      <td>A</td>\n",
       "      <td>oneco RC</td>\n",
       "      <td>Oneco HM</td>\n",
       "      <td>Staff-engineerImporove tools to automate the d...</td>\n",
       "      <td>Networking,Data processing,Admin,Puppet</td>\n",
       "      <td>BE/BCA/MCA</td>\n",
       "      <td>External</td>\n",
       "      <td>Full-time</td>\n",
       "      <td>3/1/2028</td>\n",
       "      <td>15/8/1018</td>\n",
       "      <td>Telangana</td>\n",
       "      <td>India</td>\n",
       "    </tr>\n",
       "    <tr>\n",
       "      <th>4</th>\n",
       "      <td>Senoir QA</td>\n",
       "      <td>IT</td>\n",
       "      <td>Bangalore</td>\n",
       "      <td>A</td>\n",
       "      <td>oneco RC</td>\n",
       "      <td>Oneco HM</td>\n",
       "      <td>Senoir QAMinimum 3 year of experince in Manua ...</td>\n",
       "      <td>Manual Testing,\\nAutomation Testing,\\nSQL,\\nTe...</td>\n",
       "      <td>BE/BCA/MCA</td>\n",
       "      <td>External</td>\n",
       "      <td>Full-time</td>\n",
       "      <td>4/3/2018</td>\n",
       "      <td>5/7/2018</td>\n",
       "      <td>NaN</td>\n",
       "      <td>NaN</td>\n",
       "    </tr>\n",
       "  </tbody>\n",
       "</table>\n",
       "</div>"
      ],
      "text/plain": [
       "                      Title   Category   Location Pre-Interview form  \\\n",
       "0                        QA         IT  Bangalore                  A   \n",
       "1  Branch Marketing Manager  Marketing  Bangalore                  B   \n",
       "2       Senior UI developer         IT     Mumbai                  B   \n",
       "3            Staff-engineer         IT  Hyderabad                  A   \n",
       "4                 Senoir QA         IT  Bangalore                  A   \n",
       "\n",
       "         RC        HM                                        Description  \\\n",
       "0  oneco RC  Oneco HM  QAMinimum 1 year of experince in Manual Testin...   \n",
       "1  oneco RC  Oneco HM  Branch Marketing ManagerDevelop marketing init...   \n",
       "2  oneco RC  Oneco HM  Senior UI developerDevelops Software to help c...   \n",
       "3  oneco RC  Oneco HM  Staff-engineerImporove tools to automate the d...   \n",
       "4  oneco RC  Oneco HM  Senoir QAMinimum 3 year of experince in Manua ...   \n",
       "\n",
       "                                             Skills    Education Posting Type  \\\n",
       "0  Manual Testing,\\nAutomation Testing,\\nSQL,\\nTe...  BE/BCA/MCA     External   \n",
       "1                                    Sales,Telesales         MBA     External   \n",
       "2                                   Code,HTML,OOP,UI         NaN     External   \n",
       "3            Networking,Data processing,Admin,Puppet  BE/BCA/MCA     External   \n",
       "4  Manual Testing,\\nAutomation Testing,\\nSQL,\\nTe...  BE/BCA/MCA     External   \n",
       "\n",
       "    Job Type Start Date   End Date        State Country  \n",
       "0  Full-time   4/7/2013   5/9/2013    Karnataka   India  \n",
       "1  Full-time        NaN        NaN    Karnataka   India  \n",
       "2  Full-time  9/12/2016  10/1/2017  Maharashtra   India  \n",
       "3  Full-time   3/1/2028  15/8/1018    Telangana   India  \n",
       "4  Full-time   4/3/2018   5/7/2018          NaN     NaN  "
      ]
     },
     "execution_count": 22,
     "metadata": {},
     "output_type": "execute_result"
    }
   ],
   "source": [
    "jobs_line.head()"
   ]
  },
  {
   "cell_type": "code",
   "execution_count": 25,
   "metadata": {},
   "outputs": [],
   "source": [
    "# Tf-Idf function \n",
    "tf = TfidfVectorizer(analyzer='word',ngram_range=(1, 3),min_df=0, stop_words='english')"
   ]
  },
  {
   "cell_type": "code",
   "execution_count": 26,
   "metadata": {},
   "outputs": [],
   "source": [
    "# Fitting the Tf-Idf on the 'Description' text\n",
    "tfidf_matrix = tf.fit_transform(jobs_line['Description'])\n"
   ]
  },
  {
   "cell_type": "code",
   "execution_count": 27,
   "metadata": {},
   "outputs": [
    {
     "data": {
      "text/plain": [
       "(10, 158)"
      ]
     },
     "execution_count": 27,
     "metadata": {},
     "output_type": "execute_result"
    }
   ],
   "source": [
    "tfidf_matrix.shape # Weighted matrix "
   ]
  },
  {
   "cell_type": "code",
   "execution_count": 29,
   "metadata": {},
   "outputs": [],
   "source": [
    "from sklearn.metrics.pairwise import sigmoid_kernel\n",
    "sig = sigmoid_kernel(tfidf_matrix, tfidf_matrix) # find out sigmoid kernel"
   ]
  },
  {
   "cell_type": "code",
   "execution_count": 30,
   "metadata": {},
   "outputs": [],
   "source": [
    "# Generating indices and movie titles\n",
    "jobs_line = jobs_line.reset_index()\n",
    "titles = jobs_line[' Title']"
   ]
  },
  {
   "cell_type": "code",
   "execution_count": 31,
   "metadata": {},
   "outputs": [
    {
     "name": "stdout",
     "output_type": "stream",
     "text": [
      "0                          QA\n",
      "1    Branch Marketing Manager\n",
      "2         Senior UI developer\n",
      "3              Staff-engineer\n",
      "4                   Senoir QA\n",
      "5                UI developer\n",
      "6        Senoir Sales Manager\n",
      "7         Senior staff Devops\n",
      "8                HR Executive\n",
      "9                         NaN\n",
      "Name:  Title, dtype: object\n"
     ]
    }
   ],
   "source": [
    "print(titles)"
   ]
  },
  {
   "cell_type": "code",
   "execution_count": 32,
   "metadata": {},
   "outputs": [
    {
     "name": "stdout",
     "output_type": "stream",
     "text": [
      " Title\n",
      "QA                          0\n",
      "Branch Marketing Manager    1\n",
      "Senior UI developer         2\n",
      "Staff-engineer              3\n",
      "Senoir QA                   4\n",
      "UI developer                5\n",
      "Senoir Sales Manager        6\n",
      "Senior staff Devops         7\n",
      "HR Executive                8\n",
      "NaN                         9\n",
      "dtype: int64\n"
     ]
    }
   ],
   "source": [
    "# indices for titles\n",
    "indices = pd.Series(jobs_line.index, index=jobs_line[' Title'])\n",
    "print(indices)"
   ]
  },
  {
   "cell_type": "code",
   "execution_count": 33,
   "metadata": {},
   "outputs": [
    {
     "data": {
      "text/plain": [
       "8"
      ]
     },
     "execution_count": 33,
     "metadata": {},
     "output_type": "execute_result"
    }
   ],
   "source": [
    "indices['HR Executive']"
   ]
  },
  {
   "cell_type": "code",
   "execution_count": 34,
   "metadata": {},
   "outputs": [],
   "source": [
    "# We buld now one function which will accept the Title of the job & recommend or suggest similar jobs\n",
    "def get_job_recommendations(Title):\n",
    "    idx = indices[Title]\n",
    "   # print (idx)\n",
    "    sim_scores = list(enumerate(sig[idx]))\n",
    "    #print (sim_scores)\n",
    "    sim_scores = sorted(sim_scores, key=lambda x: x[1], reverse=True)\n",
    "   # print(sim_scores)\n",
    "    job_indices = [i[0] for i in sim_scores]\n",
    "    job_Title = [titles[i] for i in job_indices]\n",
    "  #  print(job_Title)\n",
    "    return job_Title"
   ]
  },
  {
   "cell_type": "code",
   "execution_count": 37,
   "metadata": {},
   "outputs": [
    {
     "data": {
      "text/plain": [
       "['QA', 'Senoir QA', 'Branch Marketing Manager']"
      ]
     },
     "execution_count": 37,
     "metadata": {},
     "output_type": "execute_result"
    }
   ],
   "source": [
    "# Now we will test the model by calling a function & passing title of job \n",
    "get_job_recommendations('QA')[:3]"
   ]
  },
  {
   "cell_type": "code",
   "execution_count": 38,
   "metadata": {},
   "outputs": [],
   "source": [
    "# So these job suggestions will be given to the Users/candiadtes\n"
   ]
  }
 ],
 "metadata": {
  "kernelspec": {
   "display_name": "Python 3",
   "language": "python",
   "name": "python3"
  },
  "language_info": {
   "codemirror_mode": {
    "name": "ipython",
    "version": 3
   },
   "file_extension": ".py",
   "mimetype": "text/x-python",
   "name": "python",
   "nbconvert_exporter": "python",
   "pygments_lexer": "ipython3",
   "version": "3.7.3"
  }
 },
 "nbformat": 4,
 "nbformat_minor": 2
}
